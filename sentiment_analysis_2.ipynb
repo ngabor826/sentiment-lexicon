{
 "cells": [
  {
   "cell_type": "code",
   "execution_count": 1,
   "metadata": {},
   "outputs": [
    {
     "name": "stdout",
     "output_type": "stream",
     "text": [
      "<class 'pandas.core.frame.DataFrame'>\n",
      "RangeIndex: 74920 entries, 0 to 74919\n",
      "Data columns (total 2 columns):\n",
      " #   Column  Non-Null Count  Dtype \n",
      "---  ------  --------------  ----- \n",
      " 0   text    74920 non-null  object\n",
      " 1   target  74920 non-null  int64 \n",
      "dtypes: int64(1), object(1)\n",
      "memory usage: 1.1+ MB\n"
     ]
    }
   ],
   "source": [
    "import pandas as pd  \n",
    "import numpy as np\n",
    "\n",
    "df_1 = pd.read_csv('clean_reviews.csv')\n",
    "df_2 = pd.read_csv('clean_reviews_2.csv')\n",
    "df = pd.concat([df_1, df_2], axis=0)\n",
    "\n",
    "df.reset_index(inplace=True)\n",
    "del df['index']\n",
    "del df['Unnamed: 0']\n",
    "\n",
    "df['target'] = df['target'].astype(str)\n",
    "df = df[df['target'].apply(lambda x: len(x) == 1)]\n",
    "df.dropna(inplace=True)\n",
    "df.reset_index(drop=True,inplace=True)\n",
    "\n",
    "df['target'] = df['target'].astype(int)\n",
    "\n",
    "df = df.sort_values(by=['target'])\n",
    "df.reset_index(inplace=True)\n",
    "del df['index']\n",
    "\n",
    "df.to_csv('data.csv')\n",
    "df.info()"
   ]
  },
  {
   "cell_type": "markdown",
   "metadata": {},
   "source": [
    "# Dataset felosztása"
   ]
  },
  {
   "cell_type": "code",
   "execution_count": 2,
   "metadata": {},
   "outputs": [],
   "source": [
    "from sklearn.model_selection import train_test_split\n",
    "\n",
    "x = df.text\n",
    "y = df.target\n",
    "\n",
    "x_train, x_test, y_train, y_test = train_test_split(x, y, test_size= 0.2)"
   ]
  },
  {
   "cell_type": "code",
   "execution_count": 3,
   "metadata": {},
   "outputs": [
    {
     "name": "stdout",
     "output_type": "stream",
     "text": [
      "Train set: \n",
      " Total: 59936 \n",
      " negative: 50.05% \n",
      " positive: 49.95%\n",
      "\n",
      "\n",
      "Test set: \n",
      " Total: 14984 \n",
      " negative: 49.79% \n",
      " positive: 50.21% \n"
     ]
    }
   ],
   "source": [
    "print (\"Train set: \\n Total: {0} \\n negative: {1:.2f}% \\n positive: {2:.2f}%\".format(len(x_train),\n",
    "                                                                             (len(x_train[y_train == 0]) / (len(x_train)*1.))*100,\n",
    "                                                                            (len(x_train[y_train == 1]) / (len(x_train)*1.))*100))\n",
    "print(\"\\n\")\n",
    "\n",
    "print (\"Test set: \\n Total: {0} \\n negative: {1:.2f}% \\n positive: {2:.2f}% \".format(len(x_test),\n",
    "                                                                             (len(x_test[y_test == 0]) / (len(x_test)*1.))*100,\n",
    "                                                                            (len(x_test[y_test == 1]) / (len(x_test)*1.))*100))"
   ]
  },
  {
   "cell_type": "code",
   "execution_count": 4,
   "metadata": {},
   "outputs": [],
   "source": [
    "train_df = pd.concat([x_train, y_train], axis=1).sort_values('target').reset_index()\n",
    "del train_df['index']"
   ]
  },
  {
   "cell_type": "code",
   "execution_count": 5,
   "metadata": {},
   "outputs": [
    {
     "name": "stdout",
     "output_type": "stream",
     "text": [
      "<class 'pandas.core.frame.DataFrame'>\n",
      "RangeIndex: 59936 entries, 0 to 59935\n",
      "Data columns (total 2 columns):\n",
      " #   Column  Non-Null Count  Dtype \n",
      "---  ------  --------------  ----- \n",
      " 0   text    59936 non-null  object\n",
      " 1   target  59936 non-null  int64 \n",
      "dtypes: int64(1), object(1)\n",
      "memory usage: 936.6+ KB\n"
     ]
    }
   ],
   "source": [
    "train_df.info()"
   ]
  },
  {
   "cell_type": "markdown",
   "metadata": {},
   "source": [
    "# Szótár alapú megközelítés"
   ]
  },
  {
   "cell_type": "code",
   "execution_count": 6,
   "metadata": {},
   "outputs": [
    {
     "data": {
      "text/plain": [
       "CountVectorizer(max_features=45000, stop_words='english')"
      ]
     },
     "execution_count": 6,
     "metadata": {},
     "output_type": "execute_result"
    }
   ],
   "source": [
    "from sklearn.feature_extraction.text import CountVectorizer\n",
    "cvec = CountVectorizer(max_features=45000, stop_words='english')\n",
    "cvec.fit(x_train)"
   ]
  },
  {
   "cell_type": "code",
   "execution_count": 7,
   "metadata": {},
   "outputs": [
    {
     "data": {
      "text/plain": [
       "45000"
      ]
     },
     "execution_count": 7,
     "metadata": {},
     "output_type": "execute_result"
    }
   ],
   "source": [
    "len(cvec.get_feature_names())"
   ]
  },
  {
   "cell_type": "code",
   "execution_count": 8,
   "metadata": {},
   "outputs": [],
   "source": [
    "## Szavak -> mátrix\n",
    "\n",
    "neg_mat = cvec.transform(train_df[train_df.target == 0].text)\n",
    "pos_mat = cvec.transform(train_df[train_df.target == 1].text)\n",
    "\n",
    "neg_term_freq = np.sum(neg_mat,axis=0)\n",
    "pos_term_freq = np.sum(pos_mat,axis=0)\n",
    "\n",
    "neg = np.squeeze(np.asarray(neg_term_freq))\n",
    "pos = np.squeeze(np.asarray(pos_term_freq))\n",
    "\n",
    "term_freq = pd.DataFrame([neg,pos],columns=cvec.get_feature_names()).transpose()\n",
    "\n",
    "corp_mat = cvec.transform(train_df.text)"
   ]
  },
  {
   "cell_type": "code",
   "execution_count": 9,
   "metadata": {},
   "outputs": [
    {
     "data": {
      "text/html": [
       "<div>\n",
       "<style scoped>\n",
       "    .dataframe tbody tr th:only-of-type {\n",
       "        vertical-align: middle;\n",
       "    }\n",
       "\n",
       "    .dataframe tbody tr th {\n",
       "        vertical-align: top;\n",
       "    }\n",
       "\n",
       "    .dataframe thead th {\n",
       "        text-align: right;\n",
       "    }\n",
       "</style>\n",
       "<table border=\"1\" class=\"dataframe\">\n",
       "  <thead>\n",
       "    <tr style=\"text-align: right;\">\n",
       "      <th></th>\n",
       "      <th>text</th>\n",
       "      <th>target</th>\n",
       "    </tr>\n",
       "  </thead>\n",
       "  <tbody>\n",
       "    <tr>\n",
       "      <th>29994</th>\n",
       "      <td>in the first one it was mainly giant rats but ...</td>\n",
       "      <td>0</td>\n",
       "    </tr>\n",
       "    <tr>\n",
       "      <th>29995</th>\n",
       "      <td>poor second string feature from universal pict...</td>\n",
       "      <td>0</td>\n",
       "    </tr>\n",
       "    <tr>\n",
       "      <th>29996</th>\n",
       "      <td>mccabe and mrs miller takes place in the turn ...</td>\n",
       "      <td>0</td>\n",
       "    </tr>\n",
       "    <tr>\n",
       "      <th>29997</th>\n",
       "      <td>riggs and murtough are back but the magic of t...</td>\n",
       "      <td>0</td>\n",
       "    </tr>\n",
       "    <tr>\n",
       "      <th>29998</th>\n",
       "      <td>this is blatantly futuristic adaptation of jul...</td>\n",
       "      <td>0</td>\n",
       "    </tr>\n",
       "  </tbody>\n",
       "</table>\n",
       "</div>"
      ],
      "text/plain": [
       "                                                    text  target\n",
       "29994  in the first one it was mainly giant rats but ...       0\n",
       "29995  poor second string feature from universal pict...       0\n",
       "29996  mccabe and mrs miller takes place in the turn ...       0\n",
       "29997  riggs and murtough are back but the magic of t...       0\n",
       "29998  this is blatantly futuristic adaptation of jul...       0"
      ]
     },
     "execution_count": 9,
     "metadata": {},
     "output_type": "execute_result"
    }
   ],
   "source": [
    "train_df[train_df.target == 0].tail()"
   ]
  },
  {
   "cell_type": "code",
   "execution_count": 10,
   "metadata": {},
   "outputs": [],
   "source": [
    "## negativ szavak elődordulása\n",
    "\n",
    "neg_batches = np.linspace(0,29929,10).astype(int)\n",
    "\n",
    "i=0\n",
    "\n",
    "neg_tf = []\n",
    "\n",
    "while i < len(neg_batches)-1:\n",
    "    batch_result = np.sum(corp_mat[neg_batches[i]:neg_batches[i+1]].toarray(),axis=0)\n",
    "    neg_tf.append(batch_result)\n",
    "    i += 1"
   ]
  },
  {
   "cell_type": "code",
   "execution_count": 11,
   "metadata": {},
   "outputs": [
    {
     "data": {
      "text/html": [
       "<div>\n",
       "<style scoped>\n",
       "    .dataframe tbody tr th:only-of-type {\n",
       "        vertical-align: middle;\n",
       "    }\n",
       "\n",
       "    .dataframe tbody tr th {\n",
       "        vertical-align: top;\n",
       "    }\n",
       "\n",
       "    .dataframe thead th {\n",
       "        text-align: right;\n",
       "    }\n",
       "</style>\n",
       "<table border=\"1\" class=\"dataframe\">\n",
       "  <thead>\n",
       "    <tr style=\"text-align: right;\">\n",
       "      <th></th>\n",
       "      <th>text</th>\n",
       "      <th>target</th>\n",
       "    </tr>\n",
       "  </thead>\n",
       "  <tbody>\n",
       "    <tr>\n",
       "      <th>59931</th>\n",
       "      <td>generally love these mystery police charlie ch...</td>\n",
       "      <td>1</td>\n",
       "    </tr>\n",
       "    <tr>\n",
       "      <th>59932</th>\n",
       "      <td>film that deserved theatrical release this mad...</td>\n",
       "      <td>1</td>\n",
       "    </tr>\n",
       "    <tr>\n",
       "      <th>59933</th>\n",
       "      <td>as long as you go into this movie knowing that...</td>\n",
       "      <td>1</td>\n",
       "    </tr>\n",
       "    <tr>\n",
       "      <th>59934</th>\n",
       "      <td>was very impressed with this small independent...</td>\n",
       "      <td>1</td>\n",
       "    </tr>\n",
       "    <tr>\n",
       "      <th>59935</th>\n",
       "      <td>ever sense was kid have loved this movie have ...</td>\n",
       "      <td>1</td>\n",
       "    </tr>\n",
       "  </tbody>\n",
       "</table>\n",
       "</div>"
      ],
      "text/plain": [
       "                                                    text  target\n",
       "59931  generally love these mystery police charlie ch...       1\n",
       "59932  film that deserved theatrical release this mad...       1\n",
       "59933  as long as you go into this movie knowing that...       1\n",
       "59934  was very impressed with this small independent...       1\n",
       "59935  ever sense was kid have loved this movie have ...       1"
      ]
     },
     "execution_count": 11,
     "metadata": {},
     "output_type": "execute_result"
    }
   ],
   "source": [
    "train_df[train_df.target == 1].tail()"
   ]
  },
  {
   "cell_type": "code",
   "execution_count": 12,
   "metadata": {},
   "outputs": [],
   "source": [
    "## pozitiv szavak elődordulása\n",
    "\n",
    "pos_batches = np.linspace(29975,59936,10).astype(int)\n",
    "\n",
    "i=0\n",
    "\n",
    "pos_tf = []\n",
    "\n",
    "while i < len(pos_batches)-1:\n",
    "    batch_result = np.sum(corp_mat[pos_batches[i]:pos_batches[i+1]].toarray(),axis=0)\n",
    "    pos_tf.append(batch_result)\n",
    "    i += 1"
   ]
  },
  {
   "cell_type": "code",
   "execution_count": 13,
   "metadata": {},
   "outputs": [
    {
     "data": {
      "text/html": [
       "<div>\n",
       "<style scoped>\n",
       "    .dataframe tbody tr th:only-of-type {\n",
       "        vertical-align: middle;\n",
       "    }\n",
       "\n",
       "    .dataframe tbody tr th {\n",
       "        vertical-align: top;\n",
       "    }\n",
       "\n",
       "    .dataframe thead th {\n",
       "        text-align: right;\n",
       "    }\n",
       "</style>\n",
       "<table border=\"1\" class=\"dataframe\">\n",
       "  <thead>\n",
       "    <tr style=\"text-align: right;\">\n",
       "      <th></th>\n",
       "      <th>0</th>\n",
       "      <th>1</th>\n",
       "    </tr>\n",
       "  </thead>\n",
       "  <tbody>\n",
       "    <tr>\n",
       "      <th>aa</th>\n",
       "      <td>13</td>\n",
       "      <td>8</td>\n",
       "    </tr>\n",
       "    <tr>\n",
       "      <th>aaa</th>\n",
       "      <td>8</td>\n",
       "      <td>7</td>\n",
       "    </tr>\n",
       "    <tr>\n",
       "      <th>aaargh</th>\n",
       "      <td>5</td>\n",
       "      <td>2</td>\n",
       "    </tr>\n",
       "    <tr>\n",
       "      <th>aag</th>\n",
       "      <td>37</td>\n",
       "      <td>2</td>\n",
       "    </tr>\n",
       "    <tr>\n",
       "      <th>aage</th>\n",
       "      <td>0</td>\n",
       "      <td>5</td>\n",
       "    </tr>\n",
       "  </tbody>\n",
       "</table>\n",
       "</div>"
      ],
      "text/plain": [
       "         0  1\n",
       "aa      13  8\n",
       "aaa      8  7\n",
       "aaargh   5  2\n",
       "aag     37  2\n",
       "aage     0  5"
      ]
     },
     "execution_count": 13,
     "metadata": {},
     "output_type": "execute_result"
    }
   ],
   "source": [
    "## előfordulások összegzése\n",
    "\n",
    "neg = np.sum(neg_tf,axis=0)\n",
    "pos = np.sum(pos_tf,axis=0)\n",
    "\n",
    "## előfordulási dataframe\n",
    "\n",
    "term_freq_df = pd.DataFrame([neg,pos],columns=cvec.get_feature_names()).transpose()\n",
    "term_freq_df.head()"
   ]
  },
  {
   "cell_type": "code",
   "execution_count": 14,
   "metadata": {},
   "outputs": [
    {
     "data": {
      "text/html": [
       "<div>\n",
       "<style scoped>\n",
       "    .dataframe tbody tr th:only-of-type {\n",
       "        vertical-align: middle;\n",
       "    }\n",
       "\n",
       "    .dataframe tbody tr th {\n",
       "        vertical-align: top;\n",
       "    }\n",
       "\n",
       "    .dataframe thead th {\n",
       "        text-align: right;\n",
       "    }\n",
       "</style>\n",
       "<table border=\"1\" class=\"dataframe\">\n",
       "  <thead>\n",
       "    <tr style=\"text-align: right;\">\n",
       "      <th></th>\n",
       "      <th>negative</th>\n",
       "      <th>positive</th>\n",
       "      <th>total</th>\n",
       "    </tr>\n",
       "  </thead>\n",
       "  <tbody>\n",
       "    <tr>\n",
       "      <th>movie</th>\n",
       "      <td>59635</td>\n",
       "      <td>45807</td>\n",
       "      <td>105442</td>\n",
       "    </tr>\n",
       "    <tr>\n",
       "      <th>film</th>\n",
       "      <td>45295</td>\n",
       "      <td>49794</td>\n",
       "      <td>95089</td>\n",
       "    </tr>\n",
       "    <tr>\n",
       "      <th>like</th>\n",
       "      <td>26863</td>\n",
       "      <td>21309</td>\n",
       "      <td>48172</td>\n",
       "    </tr>\n",
       "    <tr>\n",
       "      <th>just</th>\n",
       "      <td>25303</td>\n",
       "      <td>17001</td>\n",
       "      <td>42304</td>\n",
       "    </tr>\n",
       "    <tr>\n",
       "      <th>good</th>\n",
       "      <td>17738</td>\n",
       "      <td>18298</td>\n",
       "      <td>36036</td>\n",
       "    </tr>\n",
       "    <tr>\n",
       "      <th>time</th>\n",
       "      <td>14800</td>\n",
       "      <td>15444</td>\n",
       "      <td>30244</td>\n",
       "    </tr>\n",
       "    <tr>\n",
       "      <th>really</th>\n",
       "      <td>14935</td>\n",
       "      <td>13037</td>\n",
       "      <td>27972</td>\n",
       "    </tr>\n",
       "    <tr>\n",
       "      <th>story</th>\n",
       "      <td>12173</td>\n",
       "      <td>15707</td>\n",
       "      <td>27880</td>\n",
       "    </tr>\n",
       "    <tr>\n",
       "      <th>bad</th>\n",
       "      <td>17723</td>\n",
       "      <td>4508</td>\n",
       "      <td>22231</td>\n",
       "    </tr>\n",
       "    <tr>\n",
       "      <th>did</th>\n",
       "      <td>12732</td>\n",
       "      <td>9324</td>\n",
       "      <td>22056</td>\n",
       "    </tr>\n",
       "  </tbody>\n",
       "</table>\n",
       "</div>"
      ],
      "text/plain": [
       "        negative  positive   total\n",
       "movie      59635     45807  105442\n",
       "film       45295     49794   95089\n",
       "like       26863     21309   48172\n",
       "just       25303     17001   42304\n",
       "good       17738     18298   36036\n",
       "time       14800     15444   30244\n",
       "really     14935     13037   27972\n",
       "story      12173     15707   27880\n",
       "bad        17723      4508   22231\n",
       "did        12732      9324   22056"
      ]
     },
     "execution_count": 14,
     "metadata": {},
     "output_type": "execute_result"
    }
   ],
   "source": [
    "term_freq_df.columns = ['negative', 'positive']\n",
    "term_freq_df['total'] = term_freq_df['negative'] + term_freq_df['positive']\n",
    "term_freq_df.sort_values(by='total', ascending=False).iloc[:10]"
   ]
  },
  {
   "cell_type": "code",
   "execution_count": 15,
   "metadata": {},
   "outputs": [
    {
     "data": {
      "text/html": [
       "<div>\n",
       "<style scoped>\n",
       "    .dataframe tbody tr th:only-of-type {\n",
       "        vertical-align: middle;\n",
       "    }\n",
       "\n",
       "    .dataframe tbody tr th {\n",
       "        vertical-align: top;\n",
       "    }\n",
       "\n",
       "    .dataframe thead th {\n",
       "        text-align: right;\n",
       "    }\n",
       "</style>\n",
       "<table border=\"1\" class=\"dataframe\">\n",
       "  <thead>\n",
       "    <tr style=\"text-align: right;\">\n",
       "      <th></th>\n",
       "      <th>negative</th>\n",
       "      <th>positive</th>\n",
       "      <th>total</th>\n",
       "      <th>pos_rate</th>\n",
       "    </tr>\n",
       "  </thead>\n",
       "  <tbody>\n",
       "    <tr>\n",
       "      <th>aa</th>\n",
       "      <td>13</td>\n",
       "      <td>8</td>\n",
       "      <td>21</td>\n",
       "      <td>0.380952</td>\n",
       "    </tr>\n",
       "    <tr>\n",
       "      <th>aaa</th>\n",
       "      <td>8</td>\n",
       "      <td>7</td>\n",
       "      <td>15</td>\n",
       "      <td>0.466667</td>\n",
       "    </tr>\n",
       "    <tr>\n",
       "      <th>aaargh</th>\n",
       "      <td>5</td>\n",
       "      <td>2</td>\n",
       "      <td>7</td>\n",
       "      <td>0.285714</td>\n",
       "    </tr>\n",
       "    <tr>\n",
       "      <th>aag</th>\n",
       "      <td>37</td>\n",
       "      <td>2</td>\n",
       "      <td>39</td>\n",
       "      <td>0.051282</td>\n",
       "    </tr>\n",
       "    <tr>\n",
       "      <th>aage</th>\n",
       "      <td>0</td>\n",
       "      <td>5</td>\n",
       "      <td>5</td>\n",
       "      <td>1.000000</td>\n",
       "    </tr>\n",
       "    <tr>\n",
       "      <th>...</th>\n",
       "      <td>...</td>\n",
       "      <td>...</td>\n",
       "      <td>...</td>\n",
       "      <td>...</td>\n",
       "    </tr>\n",
       "    <tr>\n",
       "      <th>zuniga</th>\n",
       "      <td>17</td>\n",
       "      <td>10</td>\n",
       "      <td>27</td>\n",
       "      <td>0.370370</td>\n",
       "    </tr>\n",
       "    <tr>\n",
       "      <th>zurer</th>\n",
       "      <td>2</td>\n",
       "      <td>8</td>\n",
       "      <td>10</td>\n",
       "      <td>0.800000</td>\n",
       "    </tr>\n",
       "    <tr>\n",
       "      <th>zwart</th>\n",
       "      <td>1</td>\n",
       "      <td>6</td>\n",
       "      <td>7</td>\n",
       "      <td>0.857143</td>\n",
       "    </tr>\n",
       "    <tr>\n",
       "      <th>zwick</th>\n",
       "      <td>10</td>\n",
       "      <td>7</td>\n",
       "      <td>17</td>\n",
       "      <td>0.411765</td>\n",
       "    </tr>\n",
       "    <tr>\n",
       "      <th>zz</th>\n",
       "      <td>4</td>\n",
       "      <td>1</td>\n",
       "      <td>5</td>\n",
       "      <td>0.200000</td>\n",
       "    </tr>\n",
       "  </tbody>\n",
       "</table>\n",
       "<p>45000 rows × 4 columns</p>\n",
       "</div>"
      ],
      "text/plain": [
       "        negative  positive  total  pos_rate\n",
       "aa            13         8     21  0.380952\n",
       "aaa            8         7     15  0.466667\n",
       "aaargh         5         2      7  0.285714\n",
       "aag           37         2     39  0.051282\n",
       "aage           0         5      5  1.000000\n",
       "...          ...       ...    ...       ...\n",
       "zuniga        17        10     27  0.370370\n",
       "zurer          2         8     10  0.800000\n",
       "zwart          1         6      7  0.857143\n",
       "zwick         10         7     17  0.411765\n",
       "zz             4         1      5  0.200000\n",
       "\n",
       "[45000 rows x 4 columns]"
      ]
     },
     "execution_count": 15,
     "metadata": {},
     "output_type": "execute_result"
    }
   ],
   "source": [
    "## Polarity = pos / total\n",
    "\n",
    "from scipy.stats import hmean\n",
    "term_freq_df['pos_rate'] = term_freq_df['positive'] * 1./term_freq_df['total']\n",
    "\n",
    "term_freq_df"
   ]
  },
  {
   "cell_type": "markdown",
   "metadata": {},
   "source": [
    "# Szótár elkészítése"
   ]
  },
  {
   "cell_type": "code",
   "execution_count": 27,
   "metadata": {},
   "outputs": [
    {
     "name": "stdout",
     "output_type": "stream",
     "text": [
      "+-------+---------------+-------------+------------+\n",
      "|       | terms         | sentiment   |   polarity |\n",
      "|-------+---------------+-------------+------------|\n",
      "|  6206 | celibacy      | negative    |   0.428571 |\n",
      "| 15362 | freaked       | negative    |   0.452381 |\n",
      "| 38357 | streetfighter | negative    |   0        |\n",
      "| 33589 | ritt          | positive    |   1        |\n",
      "| 14995 | fondness      | positive    |   0.725806 |\n",
      "| 21910 | klemper       | positive    |   1        |\n",
      "| 44298 | wladyslaw     | positive    |   1        |\n",
      "| 27424 | notches       | negative    |   0.130435 |\n",
      "|  1382 | angled        | negative    |   0.5      |\n",
      "| 26764 | narcolepsy    | negative    |   0        |\n",
      "|  4146 | bluff         | positive    |   0.588235 |\n",
      "| 38377 | stretcher     | negative    |   0.272727 |\n",
      "| 10314 | destruction   | positive    |   0.588235 |\n",
      "|  6102 | catscratch    | positive    |   1        |\n",
      "|  5628 | canceled      | positive    |   0.630137 |\n",
      "| 12126 | eatery        | positive    |   1        |\n",
      "| 27754 | october       | positive    |   0.765957 |\n",
      "| 20616 | itchy         | positive    |   0.685714 |\n",
      "| 33939 | rossitto      | negative    |   0.444444 |\n",
      "| 36197 | sica          | positive    |   0.65     |\n",
      "+-------+---------------+-------------+------------+\n"
     ]
    }
   ],
   "source": [
    "vocab_pred = []\n",
    "\n",
    "terms = cvec.get_feature_names()\n",
    "positive_rates = term_freq_df['pos_rate']\n",
    "sentiment = [\"positive\" if i > 0.51 else \"negative\" for i in positive_rates]\n",
    "\n",
    "vocabulary_df = pd.DataFrame(columns=[\"terms\",\"sentiment\"])\n",
    "\n",
    "vocabulary_df['terms'] = terms\n",
    "vocabulary_df['polarity'] = positive_rates.values.tolist()\n",
    "\n",
    "vocabulary_df['sentiment'] = sentiment\n",
    "\n",
    "from tabulate import tabulate\n",
    "\n",
    "print(tabulate(vocabulary_df.sample(20), headers='keys', tablefmt='psql'))\n",
    "\n",
    "vocabulary_dict = vocabulary_df.to_dict('index')\n"
   ]
  },
  {
   "cell_type": "code",
   "execution_count": 33,
   "metadata": {},
   "outputs": [],
   "source": [
    "import json, pprint\n",
    "\n",
    "json = json.dumps(vocabulary_dict)\n",
    "f = open(\"vocabulary.json\",\"w\")\n",
    "f.write(pprint.pformat(json))\n",
    "f.close()"
   ]
  },
  {
   "cell_type": "markdown",
   "metadata": {},
   "source": [
    "# Tesztelés"
   ]
  },
  {
   "cell_type": "code",
   "execution_count": 17,
   "metadata": {},
   "outputs": [],
   "source": [
    "pos_hmean = term_freq_df.pos_rate"
   ]
  },
  {
   "cell_type": "code",
   "execution_count": 18,
   "metadata": {},
   "outputs": [],
   "source": [
    "test_df = pd.concat([x_test, y_test], axis=1).sort_values('target').reset_index()\n",
    "del test_df['index']"
   ]
  },
  {
   "cell_type": "code",
   "execution_count": 19,
   "metadata": {},
   "outputs": [],
   "source": [
    "x = test_df.text\n",
    "y_val_predicted_proba = []\n",
    "for t in x:\n",
    "    hmean_scores = [pos_hmean[w] for w in t.split() if w in pos_hmean.index]\n",
    "    if len(hmean_scores) > 0:\n",
    "        prob_score = np.mean(hmean_scores)\n",
    "    else:\n",
    "        prob_score = np.random.random()\n",
    "    y_val_predicted_proba.append(prob_score)"
   ]
  },
  {
   "cell_type": "code",
   "execution_count": 20,
   "metadata": {},
   "outputs": [
    {
     "name": "stdout",
     "output_type": "stream",
     "text": [
      "Accuracy: 87.0%\n"
     ]
    }
   ],
   "source": [
    "pred = [1 if t > 0.51 else 0 for t in y_val_predicted_proba]\n",
    "\n",
    "y = test_df.target\n",
    "from sklearn.metrics import accuracy_score\n",
    "print(\"Accuracy: \" + str(round(accuracy_score(y,pred),2)*100) + \"%\")"
   ]
  },
  {
   "cell_type": "code",
   "execution_count": 21,
   "metadata": {},
   "outputs": [],
   "source": [
    "test_df['predicted'] = pred\n",
    "test_df['porality'] = y_val_predicted_proba"
   ]
  },
  {
   "cell_type": "code",
   "execution_count": 22,
   "metadata": {},
   "outputs": [],
   "source": [
    "test_df.to_csv('test_results.csv')"
   ]
  },
  {
   "cell_type": "code",
   "execution_count": null,
   "metadata": {},
   "outputs": [],
   "source": []
  }
 ],
 "metadata": {
  "kernelspec": {
   "display_name": "Python 3",
   "language": "python",
   "name": "python3"
  },
  "language_info": {
   "codemirror_mode": {
    "name": "ipython",
    "version": 3
   },
   "file_extension": ".py",
   "mimetype": "text/x-python",
   "name": "python",
   "nbconvert_exporter": "python",
   "pygments_lexer": "ipython3",
   "version": "3.8.5"
  }
 },
 "nbformat": 4,
 "nbformat_minor": 2
}
